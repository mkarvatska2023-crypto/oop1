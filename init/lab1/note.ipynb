{
 "cells": [
  {
   "cell_type": "markdown",
   "id": "a7d6dcd7",
   "metadata": {},
   "source": [
    "# Моя перша робота"
   ]
  },
  {
   "cell_type": "code",
   "execution_count": null,
   "id": "41bdea07",
   "metadata": {},
   "outputs": [],
   "source": [
    "from datatime import datetime\n",
    "name = \"Maria\"\n",
    "location = \"Lviv/Ukraine\"\n",
    " \n",
    " print(f\"{name} start programming at {datetime.now()}. {location} is the best city!\")"
   ]
  },
  {
   "cell_type": "code",
   "execution_count": null,
   "id": "54b72a4a",
   "metadata": {},
   "outputs": [],
   "source": [
    "import random\n",
    "mmds = [\"червоний\", \"жовтий\", \"зелений\", \"блакитний\", \"синій\", \"фіолетовий\"]\n",
    "pack_base = mmds * 20\n",
    "pack  = random.shuffle (pack_base)\n",
    "pack = pack_base[:100]\n",
    "i = 0\n",
    "while pack:\n",
    "    m_color = pack.pop()\n",
    "    i += 1\n",
    "    print (f\"{i}: {m_color}\")\n",
    "    if m_color == \"червоний\":\n",
    "        print (\"Правильно!\")\n",
    "    else:\n",
    "        print (f\"Неправильно! Правильна відповідь: {m_color}\")\n",
    "m_color = random.choice (mmds)\n"
   ]
  },
  {
   "cell_type": "code",
   "execution_count": null,
   "id": "afcadac2",
   "metadata": {},
   "outputs": [],
   "source": [
    "import random\n",
    "\n",
    "dice = None  # початкове значення\n",
    "\n",
    "while dice != 6:  # цикл триватиме, поки не випаде 6\n",
    "    dice = random.randint(1, 6)\n",
    "    print(f\"Мені випало {dice}\")\n",
    "\n",
    "print(\" Нарешті випала шістка!\")"
   ]
  },
  {
   "cell_type": "code",
   "execution_count": null,
   "id": "42eda613",
   "metadata": {},
   "outputs": [],
   "source": [
    "import random\n",
    "for i in range (100):\n",
    "    dice = random.randint (1, 6)\n",
    "    print (f\"{i} Мені випало {dice}\")\n",
    "    if dice == 6:\n",
    "        print (\"Випала шістка, завершуємо\")\n",
    "        break"
   ]
  }
 ],
 "metadata": {
  "kernelspec": {
   "display_name": "Python 3",
   "language": "python",
   "name": "python3"
  },
  "language_info": {
   "name": "python",
   "version": "3.13.7"
  }
 },
 "nbformat": 4,
 "nbformat_minor": 5
}
