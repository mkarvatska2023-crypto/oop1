{
 "cells": [
  {
   "cell_type": "markdown",
   "id": "a7d6dcd7",
   "metadata": {},
   "source": [
    "# Моя перша робота"
   ]
  },
  {
   "cell_type": "code",
   "execution_count": null,
   "id": "41bdea07",
   "metadata": {},
   "outputs": [],
   "source": [
    "from datatime import datetime\n",
    "name = \"Maria\"\n",
    "location = \"Lviv/Ukraine\"\n",
    " \n",
    " print(f\"{name} start programming at {datetime.now()}. {location} is the best city!\")"
   ]
  }
 ],
 "metadata": {
  "kernelspec": {
   "display_name": "Python 3",
   "language": "python",
   "name": "python3"
  },
  "language_info": {
   "name": "python",
   "version": "3.13.7"
  }
 },
 "nbformat": 4,
 "nbformat_minor": 5
}
