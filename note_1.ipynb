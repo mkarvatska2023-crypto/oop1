{
 "cells": [
  {
   "cell_type": "markdown",
   "id": "cb014dec",
   "metadata": {},
   "source": [
    "# Моя перша робота"
   ]
  },
  {
   "cell_type": "code",
   "execution_count": 3,
   "id": "b0456a65",
   "metadata": {},
   "outputs": [
    {
     "name": "stdout",
     "output_type": "stream",
     "text": [
      "Привіт, Марія !Ласкаво просимо в Львів/Україна. Сьогодні 2025-10-22.\n"
     ]
    }
   ],
   "source": [
    "from datetime import datetime\n",
    "name = \"Марія\"\n",
    "location = \"Львів/Україна\"\n",
    "\n",
    "print(f\"Привіт, {name} !Ласкаво просимо в {location}. Сьогодні {datetime.now().date()}.\")"
   ]
  }
 ],
 "metadata": {
  "kernelspec": {
   "display_name": "Python 3",
   "language": "python",
   "name": "python3"
  },
  "language_info": {
   "codemirror_mode": {
    "name": "ipython",
    "version": 3
   },
   "file_extension": ".py",
   "mimetype": "text/x-python",
   "name": "python",
   "nbconvert_exporter": "python",
   "pygments_lexer": "ipython3",
   "version": "3.13.7"
  }
 },
 "nbformat": 4,
 "nbformat_minor": 5
}
